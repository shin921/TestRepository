{
  "nbformat": 4,
  "nbformat_minor": 0,
  "metadata": {
    "colab": {
      "name": "191121_DAC2019",
      "provenance": [],
      "collapsed_sections": []
    },
    "kernelspec": {
      "name": "python3",
      "display_name": "Python 3"
    }
  },
  "cells": [
    {
      "cell_type": "code",
      "metadata": {
        "id": "1k1UidkuKzpy",
        "colab_type": "code",
        "outputId": "571c79f1-cd18-4567-e9ea-04b6f1b6ea9f",
        "colab": {
          "base_uri": "https://localhost:8080/",
          "height": 34
        }
      },
      "source": [
        "#Google ColaboratoryとGCPプロジェクトを接続する\n",
        "\n",
        "from google.colab import auth\n",
        "auth.authenticate_user()\n",
        "print('Authenticated')"
      ],
      "execution_count": 0,
      "outputs": [
        {
          "output_type": "stream",
          "text": [
            "Authenticated\n"
          ],
          "name": "stdout"
        }
      ]
    },
    {
      "cell_type": "code",
      "metadata": {
        "id": "XD4KTj0KK1lc",
        "colab_type": "code",
        "outputId": "2af7ee00-8955-434f-9701-61c1044cfccb",
        "colab": {
          "base_uri": "https://localhost:8080/",
          "height": 272
        }
      },
      "source": [
        "#パッケージをインポートする\n",
        "\n",
        "import pandas as pd\n",
        "import scipy as sp\n",
        "from scipy import optimize\n",
        "from decimal import Decimal\n",
        "import numpy as np\n",
        "import os\n",
        "import random\n",
        "import collections\n",
        "\n",
        "\n",
        "from IPython.core.interactiveshell import InteractiveShell\n",
        "InteractiveShell.ast_node_interactivity = \"all\"\n",
        "\n",
        "#%matplotlib notebook\n",
        "%matplotlib inline\n",
        "import matplotlib.pyplot as plt\n",
        "import matplotlib\n",
        "\n",
        "#plt.style.use('ggplot')\n",
        "#font = {'family':'Osaka'}\n",
        "#font = {'family':'IPAPGothic'}\n",
        "#matplotlib.rc('font', **font)\n",
        "\n",
        "from datetime import datetime\n",
        "\n",
        "#データ格納元となっている、GCPプロジェクトを指定する\n",
        "project_id = 'dharma-2nd-arata-naoya'\n",
        "from google.cloud import bigquery\n",
        "client = bigquery.Client(project = project_id)\n",
        "\n",
        "!pip install googletrans\n",
        "#!pip install googlemaps #必要なときだけインストール\n",
        "!pip install tqdm\n",
        "from tqdm import tqdm_notebook as tqdm\n",
        "pd.set_option('display.max_rows', 150)\n",
        "pd.set_option('display.max_columns', 50)\n",
        "\n",
        "import pickle"
      ],
      "execution_count": 0,
      "outputs": [
        {
          "output_type": "stream",
          "text": [
            "Collecting googletrans\n",
            "  Downloading https://files.pythonhosted.org/packages/fd/f0/a22d41d3846d1f46a4f20086141e0428ccc9c6d644aacbfd30990cf46886/googletrans-2.4.0.tar.gz\n",
            "Requirement already satisfied: requests in /usr/local/lib/python3.6/dist-packages (from googletrans) (2.21.0)\n",
            "Requirement already satisfied: certifi>=2017.4.17 in /usr/local/lib/python3.6/dist-packages (from requests->googletrans) (2019.9.11)\n",
            "Requirement already satisfied: idna<2.9,>=2.5 in /usr/local/lib/python3.6/dist-packages (from requests->googletrans) (2.8)\n",
            "Requirement already satisfied: urllib3<1.25,>=1.21.1 in /usr/local/lib/python3.6/dist-packages (from requests->googletrans) (1.24.3)\n",
            "Requirement already satisfied: chardet<3.1.0,>=3.0.2 in /usr/local/lib/python3.6/dist-packages (from requests->googletrans) (3.0.4)\n",
            "Building wheels for collected packages: googletrans\n",
            "  Building wheel for googletrans (setup.py) ... \u001b[?25l\u001b[?25hdone\n",
            "  Created wheel for googletrans: filename=googletrans-2.4.0-cp36-none-any.whl size=15776 sha256=8bb454a2050037a092b4adc1e5994b1a6ca5c64aea25778b93106709b439963a\n",
            "  Stored in directory: /root/.cache/pip/wheels/50/d6/e7/a8efd5f2427d5eb258070048718fa56ee5ac57fd6f53505f95\n",
            "Successfully built googletrans\n",
            "Installing collected packages: googletrans\n",
            "Successfully installed googletrans-2.4.0\n",
            "Requirement already satisfied: tqdm in /usr/local/lib/python3.6/dist-packages (4.28.1)\n"
          ],
          "name": "stdout"
        }
      ]
    },
    {
      "cell_type": "code",
      "metadata": {
        "id": "ltNvcPUb2Aws",
        "colab_type": "code",
        "outputId": "b1607dea-36d9-4b23-d139-46909ac44871",
        "colab": {
          "base_uri": "https://localhost:8080/",
          "height": 419
        }
      },
      "source": [
        "#テーブル(`dac2019_sample_1pml_1571663091545`)より抽出、作成したODデータを観察する\n",
        "#東京の全駅で乗車地点の判別\n",
        "\n",
        "#クエリの作成\n",
        "query_1 = \"\"\"\n",
        "SELECT\n",
        "  station,\n",
        "  before,\n",
        "  after,\n",
        "  statustime\n",
        "FROM (\n",
        "  SELECT\n",
        "    CASE\n",
        "      WHEN ST_CONTAINS(A.region, B.point) IS TRUE THEN A.Station_name\n",
        "    ELSE\n",
        "    'Nan'\n",
        "  END\n",
        "    AS station,\n",
        "    B.before,\n",
        "    B.after,\n",
        "    B.StatusTime\n",
        "  FROM\n",
        "    `dharma-2nd-arata-naoya.dac2019.a` AS A\n",
        "  INNER JOIN (\n",
        "    SELECT\n",
        "      point,\n",
        "      before,\n",
        "      after,\n",
        "      StatusTime\n",
        "    FROM\n",
        "      `dharma-2nd-arata-naoya.dac2019.dac2019_sample_1pml_1571663091545_OD`\n",
        "    WHERE\n",
        "      before = '空車'\n",
        "      AND after = '実車'\n",
        "    ORDER BY\n",
        "      StatusTime ASC) AS B\n",
        "  ON\n",
        "    1 = 1)\n",
        "GROUP BY\n",
        "  station,\n",
        "  before,\n",
        "  after,\n",
        "  statustime\n",
        "ORDER BY\n",
        "  statustime ASC\n",
        "\"\"\"\n",
        "\n",
        "\n",
        "#クエリ結果をpandasのデータフレームに格納\n",
        "results_1 = client.query(query_1).to_dataframe()\n",
        "\n",
        "#表示範囲を指定する\n",
        "pd.set_option('display.max_rows', 10000)\n",
        "pd.set_option(\"display.max_colwidth\", 120)\n",
        "pd.set_option(\"display.max_rows\", 101)\n",
        "\n",
        "#クエリ結果を表示\n",
        "results_1"
      ],
      "execution_count": 0,
      "outputs": [
        {
          "output_type": "execute_result",
          "data": {
            "text/html": [
              "<div>\n",
              "<style scoped>\n",
              "    .dataframe tbody tr th:only-of-type {\n",
              "        vertical-align: middle;\n",
              "    }\n",
              "\n",
              "    .dataframe tbody tr th {\n",
              "        vertical-align: top;\n",
              "    }\n",
              "\n",
              "    .dataframe thead th {\n",
              "        text-align: right;\n",
              "    }\n",
              "</style>\n",
              "<table border=\"1\" class=\"dataframe\">\n",
              "  <thead>\n",
              "    <tr style=\"text-align: right;\">\n",
              "      <th></th>\n",
              "      <th>station</th>\n",
              "      <th>before</th>\n",
              "      <th>after</th>\n",
              "      <th>statustime</th>\n",
              "    </tr>\n",
              "  </thead>\n",
              "  <tbody>\n",
              "    <tr>\n",
              "      <th>0</th>\n",
              "      <td>Nan</td>\n",
              "      <td>空車</td>\n",
              "      <td>実車</td>\n",
              "      <td>2016-04-01 00:00:04</td>\n",
              "    </tr>\n",
              "    <tr>\n",
              "      <th>1</th>\n",
              "      <td>Nan</td>\n",
              "      <td>空車</td>\n",
              "      <td>実車</td>\n",
              "      <td>2016-04-01 00:00:14</td>\n",
              "    </tr>\n",
              "    <tr>\n",
              "      <th>2</th>\n",
              "      <td>小川町</td>\n",
              "      <td>空車</td>\n",
              "      <td>実車</td>\n",
              "      <td>2016-04-01 00:00:14</td>\n",
              "    </tr>\n",
              "    <tr>\n",
              "      <th>3</th>\n",
              "      <td>淡路町</td>\n",
              "      <td>空車</td>\n",
              "      <td>実車</td>\n",
              "      <td>2016-04-01 00:00:14</td>\n",
              "    </tr>\n",
              "    <tr>\n",
              "      <th>4</th>\n",
              "      <td>Nan</td>\n",
              "      <td>空車</td>\n",
              "      <td>実車</td>\n",
              "      <td>2016-04-01 00:01:24</td>\n",
              "    </tr>\n",
              "    <tr>\n",
              "      <th>...</th>\n",
              "      <td>...</td>\n",
              "      <td>...</td>\n",
              "      <td>...</td>\n",
              "      <td>...</td>\n",
              "    </tr>\n",
              "    <tr>\n",
              "      <th>274980</th>\n",
              "      <td>大井町</td>\n",
              "      <td>空車</td>\n",
              "      <td>実車</td>\n",
              "      <td>2018-03-31 23:43:13</td>\n",
              "    </tr>\n",
              "    <tr>\n",
              "      <th>274981</th>\n",
              "      <td>Nan</td>\n",
              "      <td>空車</td>\n",
              "      <td>実車</td>\n",
              "      <td>2018-03-31 23:56:16</td>\n",
              "    </tr>\n",
              "    <tr>\n",
              "      <th>274982</th>\n",
              "      <td>赤羽</td>\n",
              "      <td>空車</td>\n",
              "      <td>実車</td>\n",
              "      <td>2018-03-31 23:56:16</td>\n",
              "    </tr>\n",
              "    <tr>\n",
              "      <th>274983</th>\n",
              "      <td>大井町</td>\n",
              "      <td>空車</td>\n",
              "      <td>実車</td>\n",
              "      <td>2018-03-31 23:58:45</td>\n",
              "    </tr>\n",
              "    <tr>\n",
              "      <th>274984</th>\n",
              "      <td>Nan</td>\n",
              "      <td>空車</td>\n",
              "      <td>実車</td>\n",
              "      <td>2018-03-31 23:58:45</td>\n",
              "    </tr>\n",
              "  </tbody>\n",
              "</table>\n",
              "<p>274985 rows × 4 columns</p>\n",
              "</div>"
            ],
            "text/plain": [
              "       station before after          statustime\n",
              "0          Nan     空車    実車 2016-04-01 00:00:04\n",
              "1          Nan     空車    実車 2016-04-01 00:00:14\n",
              "2          小川町     空車    実車 2016-04-01 00:00:14\n",
              "3          淡路町     空車    実車 2016-04-01 00:00:14\n",
              "4          Nan     空車    実車 2016-04-01 00:01:24\n",
              "...        ...    ...   ...                 ...\n",
              "274980     大井町     空車    実車 2018-03-31 23:43:13\n",
              "274981     Nan     空車    実車 2018-03-31 23:56:16\n",
              "274982      赤羽     空車    実車 2018-03-31 23:56:16\n",
              "274983     大井町     空車    実車 2018-03-31 23:58:45\n",
              "274984     Nan     空車    実車 2018-03-31 23:58:45\n",
              "\n",
              "[274985 rows x 4 columns]"
            ]
          },
          "metadata": {
            "tags": []
          },
          "execution_count": 4
        }
      ]
    },
    {
      "cell_type": "code",
      "metadata": {
        "id": "ILiO_dSUAegx",
        "colab_type": "code",
        "outputId": "5b8c7055-9020-4414-b1ae-6a4d7daee543",
        "colab": {
          "base_uri": "https://localhost:8080/",
          "height": 80
        }
      },
      "source": [
        "#上記クエリで抽出したデータの割合を見てみる\n",
        "\n",
        "#クエリの作成\n",
        "query_2 = \"\"\"\n",
        "SELECT\n",
        "  COUNT(station != 'Nan'\n",
        "    OR NULL) AS T,\n",
        "  (COUNT(station = 'Nan'\n",
        "      OR NULL) - COUNT(station != 'Nan'\n",
        "      OR NULL) ) AS F\n",
        "FROM (\n",
        "  SELECT\n",
        "    station,\n",
        "    before,\n",
        "    after,\n",
        "    statustime\n",
        "  FROM (\n",
        "    SELECT\n",
        "      CASE\n",
        "        WHEN ST_CONTAINS(A.region, B.point) IS TRUE THEN A.Station_name\n",
        "      ELSE\n",
        "      'Nan'\n",
        "    END\n",
        "      AS station,\n",
        "      B.before,\n",
        "      B.after,\n",
        "      B.StatusTime\n",
        "    FROM\n",
        "      `dharma-2nd-arata-naoya.dac2019.a` AS A\n",
        "    INNER JOIN (\n",
        "      SELECT\n",
        "        point,\n",
        "        before,\n",
        "        after,\n",
        "        StatusTime\n",
        "      FROM\n",
        "        `dharma-2nd-arata-naoya.dac2019.dac2019_sample_1pml_1571663091545_OD`\n",
        "      WHERE\n",
        "        before = '空車'\n",
        "        AND after = '実車'\n",
        "      ORDER BY\n",
        "        StatusTime ASC) AS B\n",
        "    ON\n",
        "      1 = 1)\n",
        "  GROUP BY\n",
        "    station,\n",
        "    before,\n",
        "    after,\n",
        "    statustime\n",
        "  ORDER BY\n",
        "    statustime ASC)\n",
        "\"\"\"\n",
        "\n",
        "\n",
        "#クエリ結果をpandasのデータフレームに格納\n",
        "results_2 = client.query(query_2).to_dataframe()\n",
        "\n",
        "#表示範囲を指定する\n",
        "pd.set_option('display.max_rows', 10000)\n",
        "pd.set_option(\"display.max_colwidth\", 120)\n",
        "pd.set_option(\"display.max_rows\", 101)\n",
        "\n",
        "#クエリ結果を表示\n",
        "results_2"
      ],
      "execution_count": 0,
      "outputs": [
        {
          "output_type": "execute_result",
          "data": {
            "text/html": [
              "<div>\n",
              "<style scoped>\n",
              "    .dataframe tbody tr th:only-of-type {\n",
              "        vertical-align: middle;\n",
              "    }\n",
              "\n",
              "    .dataframe tbody tr th {\n",
              "        vertical-align: top;\n",
              "    }\n",
              "\n",
              "    .dataframe thead th {\n",
              "        text-align: right;\n",
              "    }\n",
              "</style>\n",
              "<table border=\"1\" class=\"dataframe\">\n",
              "  <thead>\n",
              "    <tr style=\"text-align: right;\">\n",
              "      <th></th>\n",
              "      <th>T</th>\n",
              "      <th>F</th>\n",
              "    </tr>\n",
              "  </thead>\n",
              "  <tbody>\n",
              "    <tr>\n",
              "      <th>0</th>\n",
              "      <td>91251</td>\n",
              "      <td>92483</td>\n",
              "    </tr>\n",
              "  </tbody>\n",
              "</table>\n",
              "</div>"
            ],
            "text/plain": [
              "       T      F\n",
              "0  91251  92483"
            ]
          },
          "metadata": {
            "tags": []
          },
          "execution_count": 10
        }
      ]
    },
    {
      "cell_type": "code",
      "metadata": {
        "id": "_stwOJiFAyBq",
        "colab_type": "code",
        "outputId": "7287bfb0-5d05-4265-964e-1b986f56207f",
        "colab": {
          "base_uri": "https://localhost:8080/",
          "height": 404
        }
      },
      "source": [
        "#乗車地点のクエリ結果を円グラフで表示\n",
        "\n",
        "array = results_2.as_matrix()\n",
        "label = [\"station\", \"other\"]\n",
        "plt.pie(array, labels=label, counterclock=False, startangle=90, autopct=\"%.1f%%\",\n",
        "        pctdistance=0.5)\n"
      ],
      "execution_count": 0,
      "outputs": [
        {
          "output_type": "stream",
          "text": [
            "/usr/local/lib/python3.6/dist-packages/ipykernel_launcher.py:5: MatplotlibDeprecationWarning: Non-1D inputs to pie() are currently squeeze()d, but this behavior is deprecated since 3.1 and will be removed in 3.3; pass a 1D array instead.\n",
            "  \"\"\"\n"
          ],
          "name": "stderr"
        },
        {
          "output_type": "execute_result",
          "data": {
            "text/plain": [
              "([<matplotlib.patches.Wedge at 0x7f39960c0da0>,\n",
              "  <matplotlib.patches.Wedge at 0x7f39960d64a8>],\n",
              " [Text(1.0999389844516154, 0.011585787998620839, 'station'),\n",
              "  Text(-1.0999389855363504, -0.011585685014901037, 'other')],\n",
              " [Text(0.49997226565982517, 0.005266267272100381, '49.7%'),\n",
              "  Text(-0.49997226615288654, -0.005266220461318653, '50.3%')])"
            ]
          },
          "metadata": {
            "tags": []
          },
          "execution_count": 14
        },
        {
          "output_type": "display_data",
          "data": {
            "image/png": "[encoded data removed]",
            "text/plain": [
              "<Figure size 432x288 with 1 Axes>"
            ]
          },
          "metadata": {
            "tags": []
          }
        }
      ]
    },
    {
      "cell_type": "code",
      "metadata": {
        "id": "R_NP2gVTVSjT",
        "colab_type": "code",
        "outputId": "7663b82a-1b1d-446e-951c-06c8abe946c9",
        "colab": {
          "base_uri": "https://localhost:8080/",
          "height": 80
        }
      },
      "source": [
        "#東京の全駅で降車地点の判別\n",
        "\n",
        "#クエリの作成\n",
        "query_3 = \"\"\"\n",
        "SELECT\n",
        "  COUNT(station != 'Nan'\n",
        "    OR NULL) AS T,\n",
        "  (COUNT(station = 'Nan'\n",
        "      OR NULL) - COUNT(station != 'Nan'\n",
        "      OR NULL) ) AS F\n",
        "FROM (\n",
        "  SELECT\n",
        "    station,\n",
        "    before,\n",
        "    after,\n",
        "    statustime\n",
        "  FROM (\n",
        "    SELECT\n",
        "      CASE\n",
        "        WHEN ST_CONTAINS(A.region, B.point) IS TRUE THEN A.Station_name\n",
        "      ELSE\n",
        "      'Nan'\n",
        "    END\n",
        "      AS station,\n",
        "      B.before,\n",
        "      B.after,\n",
        "      B.StatusTime\n",
        "    FROM\n",
        "      `dharma-2nd-arata-naoya.dac2019.a` AS A\n",
        "    INNER JOIN (\n",
        "      SELECT\n",
        "        point,\n",
        "        before,\n",
        "        after,\n",
        "        StatusTime\n",
        "      FROM\n",
        "        `dharma-2nd-arata-naoya.dac2019.dac2019_sample_1pml_1571663091545_OD`\n",
        "      WHERE\n",
        "        before = '実車'\n",
        "        AND after = '空車'\n",
        "      ORDER BY\n",
        "        StatusTime ASC) AS B\n",
        "    ON\n",
        "      1 = 1)\n",
        "  GROUP BY\n",
        "    station,\n",
        "    before,\n",
        "    after,\n",
        "    statustime\n",
        "  ORDER BY\n",
        "    statustime ASC)\n",
        "\"\"\"\n",
        "\n",
        "\n",
        "#クエリ結果をpandasのデータフレームに格納\n",
        "results_3 = client.query(query_3).to_dataframe()\n",
        "\n",
        "#表示範囲を指定する\n",
        "pd.set_option('display.max_rows', 10000)\n",
        "pd.set_option(\"display.max_colwidth\", 120)\n",
        "pd.set_option(\"display.max_rows\", 101)\n",
        "\n",
        "#クエリ結果を表示\n",
        "results_3"
      ],
      "execution_count": 0,
      "outputs": [
        {
          "output_type": "execute_result",
          "data": {
            "text/html": [
              "<div>\n",
              "<style scoped>\n",
              "    .dataframe tbody tr th:only-of-type {\n",
              "        vertical-align: middle;\n",
              "    }\n",
              "\n",
              "    .dataframe tbody tr th {\n",
              "        vertical-align: top;\n",
              "    }\n",
              "\n",
              "    .dataframe thead th {\n",
              "        text-align: right;\n",
              "    }\n",
              "</style>\n",
              "<table border=\"1\" class=\"dataframe\">\n",
              "  <thead>\n",
              "    <tr style=\"text-align: right;\">\n",
              "      <th></th>\n",
              "      <th>T</th>\n",
              "      <th>F</th>\n",
              "    </tr>\n",
              "  </thead>\n",
              "  <tbody>\n",
              "    <tr>\n",
              "      <th>0</th>\n",
              "      <td>74180</td>\n",
              "      <td>109873</td>\n",
              "    </tr>\n",
              "  </tbody>\n",
              "</table>\n",
              "</div>"
            ],
            "text/plain": [
              "       T       F\n",
              "0  74180  109873"
            ]
          },
          "metadata": {
            "tags": []
          },
          "execution_count": 15
        }
      ]
    },
    {
      "cell_type": "code",
      "metadata": {
        "id": "b8LRpTTGVjGS",
        "colab_type": "code",
        "outputId": "7f081d93-761e-401a-9b7e-f134d29b8c25",
        "colab": {
          "base_uri": "https://localhost:8080/",
          "height": 438
        }
      },
      "source": [
        "#降車地点のクエリ結果を円グラフで表示\n",
        "\n",
        "array = results_3.as_matrix()\n",
        "label = [\"station\", \"other\"]\n",
        "plt.pie(array, labels=label, counterclock=False, startangle=90, autopct=\"%.1f%%\",\n",
        "        pctdistance=0.5)\n"
      ],
      "execution_count": 0,
      "outputs": [
        {
          "output_type": "stream",
          "text": [
            "/usr/local/lib/python3.6/dist-packages/ipykernel_launcher.py:2: FutureWarning: Method .as_matrix will be removed in a future version. Use .values instead.\n",
            "  \n",
            "/usr/local/lib/python3.6/dist-packages/ipykernel_launcher.py:5: MatplotlibDeprecationWarning: Non-1D inputs to pie() are currently squeeze()d, but this behavior is deprecated since 3.1 and will be removed in 3.3; pass a 1D array instead.\n",
            "  \"\"\"\n"
          ],
          "name": "stderr"
        },
        {
          "output_type": "execute_result",
          "data": {
            "text/plain": [
              "([<matplotlib.patches.Wedge at 0x7f39959548d0>,\n",
              "  <matplotlib.patches.Wedge at 0x7f3995954f98>],\n",
              " [Text(1.0493567269519246, 0.32992493025041947, 'station'),\n",
              "  Text(-1.0493567578417213, -0.32992483200255085, 'other')],\n",
              " [Text(0.47698033043269294, 0.14996587738655429, '40.3%'),\n",
              "  Text(-0.4769803444735096, -0.1499658327284322, '59.7%')])"
            ]
          },
          "metadata": {
            "tags": []
          },
          "execution_count": 16
        },
        {
          "output_type": "display_data",
          "data": {
            "image/png": "[encoded data removed]",
            "text/plain": [
              "<Figure size 432x288 with 1 Axes>"
            ]
          },
          "metadata": {
            "tags": []
          }
        }
      ]
    },
    {
      "cell_type": "code",
      "metadata": {
        "id": "spRB4HjrdK1f",
        "colab_type": "code",
        "outputId": "18f2709e-7a91-452d-d7b3-cf0d94c5501d",
        "colab": {
          "base_uri": "https://localhost:8080/",
          "height": 467
        }
      },
      "source": [
        "#都内のターミナル駅に絞って見てみる\n",
        "#乗車地点を可視化\n",
        "\n",
        "#クエリの作成\n",
        "query_4 = \"\"\"\n",
        "SELECT\n",
        "  COUNT(station != 'Nan'\n",
        "    OR NULL) AS T,\n",
        "  (COUNT(station = 'Nan'\n",
        "      OR NULL) - COUNT(station != 'Nan'\n",
        "      OR NULL) ) AS F\n",
        "FROM (\n",
        "  SELECT\n",
        "    station,\n",
        "    before,\n",
        "    after,\n",
        "    statustime\n",
        "  FROM (\n",
        "    SELECT\n",
        "      CASE\n",
        "        WHEN ST_CONTAINS(A.region, B.point) IS TRUE THEN A.Station_name\n",
        "      ELSE\n",
        "      'Nan'\n",
        "    END\n",
        "      AS station,\n",
        "      B.before,\n",
        "      B.after,\n",
        "      B.StatusTime\n",
        "    FROM\n",
        "      `dharma-2nd-arata-naoya.dac2019.stations_terminal_region_2` AS A\n",
        "    INNER JOIN (\n",
        "      SELECT\n",
        "        point,\n",
        "        before,\n",
        "        after,\n",
        "        StatusTime\n",
        "      FROM\n",
        "        `dharma-2nd-arata-naoya.dac2019.dac2019_sample_1pml_1571663091545_OD`\n",
        "      WHERE\n",
        "        before = '空車'\n",
        "        AND after = '実車'\n",
        "      ORDER BY\n",
        "        StatusTime ASC) AS B\n",
        "    ON\n",
        "      1 = 1)\n",
        "  GROUP BY\n",
        "    station,\n",
        "    before,\n",
        "    after,\n",
        "    statustime\n",
        "  ORDER BY\n",
        "    statustime ASC)\n",
        "\"\"\"\n",
        "\n",
        "\n",
        "#クエリ結果をpandasのデータフレームに格納\n",
        "results_4 = client.query(query_4).to_dataframe()\n",
        "\n",
        "#表示範囲を指定する\n",
        "pd.set_option('display.max_rows', 10000)\n",
        "pd.set_option(\"display.max_colwidth\", 120)\n",
        "pd.set_option(\"display.max_rows\", 101)\n",
        "\n",
        "#クエリ結果を表示\n",
        "results_4\n",
        "\n",
        "#クエリ結果を円グラフで表示\n",
        "array = results_4.as_matrix()\n",
        "label = [\"station\", \"other\"]\n",
        "plt.pie(array, labels=label, counterclock=False, startangle=90, autopct=\"%.1f%%\",\n",
        "        pctdistance=0.5)\n"
      ],
      "execution_count": 0,
      "outputs": [
        {
          "output_type": "execute_result",
          "data": {
            "text/html": [
              "<div>\n",
              "<style scoped>\n",
              "    .dataframe tbody tr th:only-of-type {\n",
              "        vertical-align: middle;\n",
              "    }\n",
              "\n",
              "    .dataframe tbody tr th {\n",
              "        vertical-align: top;\n",
              "    }\n",
              "\n",
              "    .dataframe thead th {\n",
              "        text-align: right;\n",
              "    }\n",
              "</style>\n",
              "<table border=\"1\" class=\"dataframe\">\n",
              "  <thead>\n",
              "    <tr style=\"text-align: right;\">\n",
              "      <th></th>\n",
              "      <th>T</th>\n",
              "      <th>F</th>\n",
              "    </tr>\n",
              "  </thead>\n",
              "  <tbody>\n",
              "    <tr>\n",
              "      <th>0</th>\n",
              "      <td>33226</td>\n",
              "      <td>150508</td>\n",
              "    </tr>\n",
              "  </tbody>\n",
              "</table>\n",
              "</div>"
            ],
            "text/plain": [
              "       T       F\n",
              "0  33226  150508"
            ]
          },
          "metadata": {
            "tags": []
          },
          "execution_count": 18
        },
        {
          "output_type": "stream",
          "text": [
            "/usr/local/lib/python3.6/dist-packages/ipykernel_launcher.py:64: FutureWarning: Method .as_matrix will be removed in a future version. Use .values instead.\n",
            "/usr/local/lib/python3.6/dist-packages/ipykernel_launcher.py:67: MatplotlibDeprecationWarning: Non-1D inputs to pie() are currently squeeze()d, but this behavior is deprecated since 3.1 and will be removed in 3.3; pass a 1D array instead.\n"
          ],
          "name": "stderr"
        },
        {
          "output_type": "execute_result",
          "data": {
            "text/plain": [
              "([<matplotlib.patches.Wedge at 0x7f3994c19a90>,\n",
              "  <matplotlib.patches.Wedge at 0x7f3994ab01d0>],\n",
              " [Text(0.5918511138606974, 0.9272066970324643, 'station'),\n",
              "  Text(-0.5918511138606976, -0.9272066970324642, 'other')],\n",
              " [Text(0.26902323357304425, 0.421457589560211, '18.1%'),\n",
              "  Text(-0.2690232335730443, -0.42145758956021095, '81.9%')])"
            ]
          },
          "metadata": {
            "tags": []
          },
          "execution_count": 18
        },
        {
          "output_type": "display_data",
          "data": {
            "image/png": "[encoded data removed]",
            "text/plain": [
              "<Figure size 432x288 with 1 Axes>"
            ]
          },
          "metadata": {
            "tags": []
          }
        }
      ]
    },
    {
      "cell_type": "code",
      "metadata": {
        "id": "WS8EcN0kenIQ",
        "colab_type": "code",
        "outputId": "26099213-0097-48d3-bc3a-093212655a6b",
        "colab": {
          "base_uri": "https://localhost:8080/",
          "height": 467
        }
      },
      "source": [
        "#都内のターミナル駅に絞って見てみる\n",
        "#降車地点を可視化\n",
        "\n",
        "#クエリの作成\n",
        "query_5 = \"\"\"\n",
        "SELECT\n",
        "  COUNT(station != 'Nan'\n",
        "    OR NULL) AS T,\n",
        "  (COUNT(station = 'Nan'\n",
        "      OR NULL) - COUNT(station != 'Nan'\n",
        "      OR NULL) ) AS F\n",
        "FROM (\n",
        "  SELECT\n",
        "    station,\n",
        "    before,\n",
        "    after,\n",
        "    statustime\n",
        "  FROM (\n",
        "    SELECT\n",
        "      CASE\n",
        "        WHEN ST_CONTAINS(A.region, B.point) IS TRUE THEN A.Station_name\n",
        "      ELSE\n",
        "      'Nan'\n",
        "    END\n",
        "      AS station,\n",
        "      B.before,\n",
        "      B.after,\n",
        "      B.StatusTime\n",
        "    FROM\n",
        "      `dharma-2nd-arata-naoya.dac2019.stations_terminal_region_2` AS A\n",
        "    INNER JOIN (\n",
        "      SELECT\n",
        "        point,\n",
        "        before,\n",
        "        after,\n",
        "        StatusTime\n",
        "      FROM\n",
        "        `dharma-2nd-arata-naoya.dac2019.dac2019_sample_1pml_1571663091545_OD`\n",
        "      WHERE\n",
        "        before = '実車'\n",
        "        AND after = '空車'\n",
        "      ORDER BY\n",
        "        StatusTime ASC) AS B\n",
        "    ON\n",
        "      1 = 1)\n",
        "  GROUP BY\n",
        "    station,\n",
        "    before,\n",
        "    after,\n",
        "    statustime\n",
        "  ORDER BY\n",
        "    statustime ASC)\n",
        "\"\"\"\n",
        "\n",
        "\n",
        "#クエリ結果をpandasのデータフレームに格納\n",
        "results_5 = client.query(query_5).to_dataframe()\n",
        "\n",
        "#表示範囲を指定する\n",
        "pd.set_option('display.max_rows', 10000)\n",
        "pd.set_option(\"display.max_colwidth\", 120)\n",
        "pd.set_option(\"display.max_rows\", 101)\n",
        "\n",
        "#クエリ結果を表示\n",
        "results_5\n",
        "\n",
        "#クエリ結果を円グラフで表示\n",
        "array = results_5.as_matrix()\n",
        "label = [\"station\", \"other\"]\n",
        "plt.pie(array, labels=label, counterclock=False, startangle=90, autopct=\"%.1f%%\",\n",
        "        pctdistance=0.5)\n"
      ],
      "execution_count": 0,
      "outputs": [
        {
          "output_type": "execute_result",
          "data": {
            "text/html": [
              "<div>\n",
              "<style scoped>\n",
              "    .dataframe tbody tr th:only-of-type {\n",
              "        vertical-align: middle;\n",
              "    }\n",
              "\n",
              "    .dataframe tbody tr th {\n",
              "        vertical-align: top;\n",
              "    }\n",
              "\n",
              "    .dataframe thead th {\n",
              "        text-align: right;\n",
              "    }\n",
              "</style>\n",
              "<table border=\"1\" class=\"dataframe\">\n",
              "  <thead>\n",
              "    <tr style=\"text-align: right;\">\n",
              "      <th></th>\n",
              "      <th>T</th>\n",
              "      <th>F</th>\n",
              "    </tr>\n",
              "  </thead>\n",
              "  <tbody>\n",
              "    <tr>\n",
              "      <th>0</th>\n",
              "      <td>18115</td>\n",
              "      <td>165938</td>\n",
              "    </tr>\n",
              "  </tbody>\n",
              "</table>\n",
              "</div>"
            ],
            "text/plain": [
              "       T       F\n",
              "0  18115  165938"
            ]
          },
          "metadata": {
            "tags": []
          },
          "execution_count": 19
        },
        {
          "output_type": "stream",
          "text": [
            "/usr/local/lib/python3.6/dist-packages/ipykernel_launcher.py:64: FutureWarning: Method .as_matrix will be removed in a future version. Use .values instead.\n",
            "/usr/local/lib/python3.6/dist-packages/ipykernel_launcher.py:67: MatplotlibDeprecationWarning: Non-1D inputs to pie() are currently squeeze()d, but this behavior is deprecated since 3.1 and will be removed in 3.3; pass a 1D array instead.\n"
          ],
          "name": "stderr"
        },
        {
          "output_type": "execute_result",
          "data": {
            "text/plain": [
              "([<matplotlib.patches.Wedge at 0x7f399479f940>,\n",
              "  <matplotlib.patches.Wedge at 0x7f39961b7080>],\n",
              " [Text(0.33473068162968916, 1.0478336560617454, 'station'),\n",
              "  Text(-0.3347305835244205, -1.0478336874014889, 'other')],\n",
              " [Text(0.15215030983167688, 0.47628802548261145, '9.8%'),\n",
              "  Text(-0.15215026523837294, -0.4762880397279495, '90.2%')])"
            ]
          },
          "metadata": {
            "tags": []
          },
          "execution_count": 19
        },
        {
          "output_type": "display_data",
          "data": {
            "image/png": "[encoded data removed]",
            "text/plain": [
              "<Figure size 432x288 with 1 Axes>"
            ]
          },
          "metadata": {
            "tags": []
          }
        }
      ]
    }
  ]
}